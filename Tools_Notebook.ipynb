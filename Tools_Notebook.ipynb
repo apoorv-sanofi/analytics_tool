{
 "cells": [
  {
   "cell_type": "code",
   "execution_count": 21,
   "id": "35baf37c-1e56-4eb7-addf-d8bdccedc467",
   "metadata": {},
   "outputs": [],
   "source": [
    "import pandas as pd\n",
    "\n",
    "pd.set_option('display.max_columns', None)"
   ]
  },
  {
   "cell_type": "code",
   "execution_count": 2,
   "id": "aa4b0c0f-e631-4c95-bf65-b491155a3273",
   "metadata": {},
   "outputs": [],
   "source": [
    "df = pd.read_csv(r'Screening Data.csv')"
   ]
  },
  {
   "cell_type": "code",
   "execution_count": 14,
   "id": "c0cdc56f-dea5-4e97-8cce-c4731bcabf61",
   "metadata": {},
   "outputs": [
    {
     "name": "stdout",
     "output_type": "stream",
     "text": [
      "<class 'pandas.core.frame.DataFrame'>\n",
      "RangeIndex: 536429 entries, 0 to 536428\n",
      "Data columns (total 23 columns):\n",
      " #   Column                    Non-Null Count   Dtype  \n",
      "---  ------                    --------------   -----  \n",
      " 0   date                      536429 non-null  object \n",
      " 1   ANTIBODYPANELTYPE         536429 non-null  int64  \n",
      " 2   COUNTOFTESTS              536429 non-null  int64  \n",
      " 3   CCT_ID                    521256 non-null  float64\n",
      " 4   SCREENINGINTENT           516534 non-null  object \n",
      " 5   COUNTOFNAIVEPATIENTS      536429 non-null  int64  \n",
      " 6   COUNTOFSTAGE1PATIENTS     536429 non-null  int64  \n",
      " 7   COUNTOFSTAGE2PATIENTS     536429 non-null  int64  \n",
      " 8   COUNTOFSTAGE1TO2PATIENTS  536429 non-null  int64  \n",
      " 9   AGEBRACKET                536429 non-null  object \n",
      " 10  FIRST_NAME                521256 non-null  object \n",
      " 11  LAST_NAME                 521256 non-null  object \n",
      " 12  CORP_SPEC_CD              521256 non-null  object \n",
      " 13  CITY                      505257 non-null  object \n",
      " 14  STATE                     521256 non-null  object \n",
      " 15  ZIP_CD                    521256 non-null  float64\n",
      " 16  KAM_Territory             521256 non-null  object \n",
      " 17  KAM_Region                521256 non-null  object \n",
      " 18  ED_territory              521256 non-null  object \n",
      " 19  ED_Region                 521256 non-null  object \n",
      " 20  corp_spec_group           521256 non-null  object \n",
      " 21  corp_spec_group2          521256 non-null  object \n",
      " 22  countoftests2             72388 non-null   float64\n",
      "dtypes: float64(3), int64(6), object(14)\n",
      "memory usage: 94.1+ MB\n"
     ]
    }
   ],
   "source": [
    "df.info()"
   ]
  },
  {
   "cell_type": "code",
   "execution_count": 18,
   "id": "1744c3e4-edbd-44b5-b0b3-0c11b69077f9",
   "metadata": {},
   "outputs": [],
   "source": [
    "df['date'] = pd.to_datetime(df['date'])"
   ]
  },
  {
   "cell_type": "code",
   "execution_count": 19,
   "id": "f381311c-2576-4ee2-9c46-2b2b10014c94",
   "metadata": {},
   "outputs": [
    {
     "name": "stdout",
     "output_type": "stream",
     "text": [
      "<class 'pandas.core.frame.DataFrame'>\n",
      "RangeIndex: 536429 entries, 0 to 536428\n",
      "Data columns (total 23 columns):\n",
      " #   Column                    Non-Null Count   Dtype         \n",
      "---  ------                    --------------   -----         \n",
      " 0   date                      536429 non-null  datetime64[ns]\n",
      " 1   ANTIBODYPANELTYPE         536429 non-null  int64         \n",
      " 2   COUNTOFTESTS              536429 non-null  int64         \n",
      " 3   CCT_ID                    521256 non-null  float64       \n",
      " 4   SCREENINGINTENT           516534 non-null  object        \n",
      " 5   COUNTOFNAIVEPATIENTS      536429 non-null  int64         \n",
      " 6   COUNTOFSTAGE1PATIENTS     536429 non-null  int64         \n",
      " 7   COUNTOFSTAGE2PATIENTS     536429 non-null  int64         \n",
      " 8   COUNTOFSTAGE1TO2PATIENTS  536429 non-null  int64         \n",
      " 9   AGEBRACKET                536429 non-null  object        \n",
      " 10  FIRST_NAME                521256 non-null  object        \n",
      " 11  LAST_NAME                 521256 non-null  object        \n",
      " 12  CORP_SPEC_CD              521256 non-null  object        \n",
      " 13  CITY                      505257 non-null  object        \n",
      " 14  STATE                     521256 non-null  object        \n",
      " 15  ZIP_CD                    521256 non-null  float64       \n",
      " 16  KAM_Territory             521256 non-null  object        \n",
      " 17  KAM_Region                521256 non-null  object        \n",
      " 18  ED_territory              521256 non-null  object        \n",
      " 19  ED_Region                 521256 non-null  object        \n",
      " 20  corp_spec_group           521256 non-null  object        \n",
      " 21  corp_spec_group2          521256 non-null  object        \n",
      " 22  countoftests2             72388 non-null   float64       \n",
      "dtypes: datetime64[ns](1), float64(3), int64(6), object(13)\n",
      "memory usage: 94.1+ MB\n"
     ]
    }
   ],
   "source": [
    "df.info()"
   ]
  },
  {
   "cell_type": "code",
   "execution_count": 24,
   "id": "5ca93ead-51f1-45a4-b3ad-24b5a5f3e27b",
   "metadata": {},
   "outputs": [
    {
     "data": {
      "text/plain": [
       "date                             0\n",
       "ANTIBODYPANELTYPE                0\n",
       "COUNTOFTESTS                     0\n",
       "CCT_ID                       15173\n",
       "SCREENINGINTENT              19895\n",
       "COUNTOFNAIVEPATIENTS             0\n",
       "COUNTOFSTAGE1PATIENTS            0\n",
       "COUNTOFSTAGE2PATIENTS            0\n",
       "COUNTOFSTAGE1TO2PATIENTS         0\n",
       "AGEBRACKET                       0\n",
       "FIRST_NAME                   15173\n",
       "LAST_NAME                    15173\n",
       "CORP_SPEC_CD                 15173\n",
       "CITY                         31172\n",
       "STATE                        15173\n",
       "ZIP_CD                       15173\n",
       "KAM_Territory                15173\n",
       "KAM_Region                   15173\n",
       "ED_territory                 15173\n",
       "ED_Region                    15173\n",
       "corp_spec_group              15173\n",
       "corp_spec_group2             15173\n",
       "countoftests2               464041\n",
       "dtype: int64"
      ]
     },
     "execution_count": 24,
     "metadata": {},
     "output_type": "execute_result"
    }
   ],
   "source": [
    "df.isna().sum()"
   ]
  },
  {
   "cell_type": "code",
   "execution_count": null,
   "id": "b5d24b31-14db-4072-93e2-ac2c294d7e29",
   "metadata": {},
   "outputs": [],
   "source": []
  }
 ],
 "metadata": {
  "kernelspec": {
   "display_name": "Python 3 (ipykernel)",
   "language": "python",
   "name": "python3"
  },
  "language_info": {
   "codemirror_mode": {
    "name": "ipython",
    "version": 3
   },
   "file_extension": ".py",
   "mimetype": "text/x-python",
   "name": "python",
   "nbconvert_exporter": "python",
   "pygments_lexer": "ipython3",
   "version": "3.11.9"
  }
 },
 "nbformat": 4,
 "nbformat_minor": 5
}
